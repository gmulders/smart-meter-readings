{
 "cells": [
  {
   "cell_type": "code",
   "execution_count": 92,
   "id": "4efba1b8-c3d7-420b-8f65-c8b395c986fb",
   "metadata": {},
   "outputs": [],
   "source": [
    "def decode_stream(stream):\n",
    "    \"\"\"Read a varint from `stream`\"\"\"\n",
    "    shift = 0\n",
    "    read = 0\n",
    "    while True:\n",
    "        i = _read_one(stream)\n",
    "        read |= (i & 0x7f) << shift\n",
    "        shift += 7\n",
    "        if not (i & 0x80):\n",
    "            break\n",
    "            \n",
    "    result = read >> 1\n",
    "    if (read & 1 != 0):\n",
    "        result = ~result\n",
    "    return result\n",
    "\n",
    "def _read_one(stream):\n",
    "    \"\"\"Read a byte from the file (as an integer)\n",
    "    raises EOFError if the stream ends while reading bytes.\n",
    "    \"\"\"\n",
    "    c = stream.read(1)\n",
    "    if c == b'':\n",
    "        raise EOFError(\"Unexpected EOF while reading bytes\")\n",
    "    return ord(c)\n",
    "\n",
    "def read_row(stream):\n",
    "    \"\"\"Reads a row of data\"\"\"\n",
    "    return (\n",
    "        decode_stream(stream), decode_stream(stream), decode_stream(stream),\n",
    "        decode_stream(stream), decode_stream(stream), decode_stream(stream),\n",
    "        decode_stream(stream), decode_stream(stream), decode_stream(stream),\n",
    "        decode_stream(stream), decode_stream(stream), decode_stream(stream),\n",
    "        decode_stream(stream), decode_stream(stream), decode_stream(stream),\n",
    "    )"
   ]
  },
  {
   "cell_type": "code",
   "execution_count": 106,
   "id": "436ff15a-064f-4573-b8e9-26d1d7bc392e",
   "metadata": {
    "tags": []
   },
   "outputs": [],
   "source": [
    "f = open(\"meterstanden-2023-01.002.bin\", \"rb\")"
   ]
  },
  {
   "cell_type": "code",
   "execution_count": 113,
   "id": "71af8a39-1ce0-48f5-bee3-5c84f6afc685",
   "metadata": {},
   "outputs": [
    {
     "ename": "EOFError",
     "evalue": "Unexpected EOF while reading bytes",
     "output_type": "error",
     "traceback": [
      "\u001b[0;31m---------------------------------------------------------------------------\u001b[0m",
      "\u001b[0;31mEOFError\u001b[0m                                  Traceback (most recent call last)",
      "Cell \u001b[0;32mIn[113], line 1\u001b[0m\n\u001b[0;32m----> 1\u001b[0m (a, _, _, _, _, _, _, _, _, _, _, _, _, _, _) \u001b[38;5;241m=\u001b[39m \u001b[43mread_row\u001b[49m\u001b[43m(\u001b[49m\u001b[43mf\u001b[49m\u001b[43m)\u001b[49m\n",
      "Cell \u001b[0;32mIn[92], line 29\u001b[0m, in \u001b[0;36mread_row\u001b[0;34m(stream)\u001b[0m\n\u001b[1;32m     26\u001b[0m \u001b[38;5;28;01mdef\u001b[39;00m \u001b[38;5;21mread_row\u001b[39m(stream):\n\u001b[1;32m     27\u001b[0m     \u001b[38;5;124;03m\"\"\"Reads a row of data\"\"\"\u001b[39;00m\n\u001b[1;32m     28\u001b[0m     \u001b[38;5;28;01mreturn\u001b[39;00m (\n\u001b[0;32m---> 29\u001b[0m         \u001b[43mdecode_stream\u001b[49m\u001b[43m(\u001b[49m\u001b[43mstream\u001b[49m\u001b[43m)\u001b[49m, decode_stream(stream), decode_stream(stream),\n\u001b[1;32m     30\u001b[0m         decode_stream(stream), decode_stream(stream), decode_stream(stream),\n\u001b[1;32m     31\u001b[0m         decode_stream(stream), decode_stream(stream), decode_stream(stream),\n\u001b[1;32m     32\u001b[0m         decode_stream(stream), decode_stream(stream), decode_stream(stream),\n\u001b[1;32m     33\u001b[0m         decode_stream(stream), decode_stream(stream), decode_stream(stream),\n\u001b[1;32m     34\u001b[0m     )\n",
      "Cell \u001b[0;32mIn[92], line 6\u001b[0m, in \u001b[0;36mdecode_stream\u001b[0;34m(stream)\u001b[0m\n\u001b[1;32m      4\u001b[0m read \u001b[38;5;241m=\u001b[39m \u001b[38;5;241m0\u001b[39m\n\u001b[1;32m      5\u001b[0m \u001b[38;5;28;01mwhile\u001b[39;00m \u001b[38;5;28;01mTrue\u001b[39;00m:\n\u001b[0;32m----> 6\u001b[0m     i \u001b[38;5;241m=\u001b[39m \u001b[43m_read_one\u001b[49m\u001b[43m(\u001b[49m\u001b[43mstream\u001b[49m\u001b[43m)\u001b[49m\n\u001b[1;32m      7\u001b[0m     read \u001b[38;5;241m|\u001b[39m\u001b[38;5;241m=\u001b[39m (i \u001b[38;5;241m&\u001b[39m \u001b[38;5;241m0x7f\u001b[39m) \u001b[38;5;241m<<\u001b[39m shift\n\u001b[1;32m      8\u001b[0m     shift \u001b[38;5;241m+\u001b[39m\u001b[38;5;241m=\u001b[39m \u001b[38;5;241m7\u001b[39m\n",
      "Cell \u001b[0;32mIn[92], line 23\u001b[0m, in \u001b[0;36m_read_one\u001b[0;34m(stream)\u001b[0m\n\u001b[1;32m     21\u001b[0m c \u001b[38;5;241m=\u001b[39m stream\u001b[38;5;241m.\u001b[39mread(\u001b[38;5;241m1\u001b[39m)\n\u001b[1;32m     22\u001b[0m \u001b[38;5;28;01mif\u001b[39;00m c \u001b[38;5;241m==\u001b[39m \u001b[38;5;124mb\u001b[39m\u001b[38;5;124m'\u001b[39m\u001b[38;5;124m'\u001b[39m:\n\u001b[0;32m---> 23\u001b[0m     \u001b[38;5;28;01mraise\u001b[39;00m \u001b[38;5;167;01mEOFError\u001b[39;00m(\u001b[38;5;124m\"\u001b[39m\u001b[38;5;124mUnexpected EOF while reading bytes\u001b[39m\u001b[38;5;124m\"\u001b[39m)\n\u001b[1;32m     24\u001b[0m \u001b[38;5;28;01mreturn\u001b[39;00m \u001b[38;5;28mord\u001b[39m(c)\n",
      "\u001b[0;31mEOFError\u001b[0m: Unexpected EOF while reading bytes"
     ]
    }
   ],
   "source": [
    "(a, _, _, _, _, _, _, _, _, _, _, _, _, _, _) = read_row(f)"
   ]
  },
  {
   "cell_type": "code",
   "execution_count": 112,
   "id": "88821e4f-f4cf-4cd8-929a-99a94dbd2505",
   "metadata": {},
   "outputs": [
    {
     "data": {
      "text/plain": [
       "10"
      ]
     },
     "execution_count": 112,
     "metadata": {},
     "output_type": "execute_result"
    }
   ],
   "source": [
    "a"
   ]
  },
  {
   "cell_type": "code",
   "execution_count": null,
   "id": "1e38df98-1105-401a-9ae6-3f950d5c8d4b",
   "metadata": {},
   "outputs": [],
   "source": []
  }
 ],
 "metadata": {
  "kernelspec": {
   "display_name": "Python 3 (ipykernel)",
   "language": "python",
   "name": "python3"
  },
  "language_info": {
   "codemirror_mode": {
    "name": "ipython",
    "version": 3
   },
   "file_extension": ".py",
   "mimetype": "text/x-python",
   "name": "python",
   "nbconvert_exporter": "python",
   "pygments_lexer": "ipython3",
   "version": "3.10.9"
  }
 },
 "nbformat": 4,
 "nbformat_minor": 5
}
